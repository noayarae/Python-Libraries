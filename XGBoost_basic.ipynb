{
  "nbformat": 4,
  "nbformat_minor": 0,
  "metadata": {
    "colab": {
      "name": "Untitled0.ipynb",
      "provenance": [],
      "collapsed_sections": [],
      "authorship_tag": "ABX9TyO4tvCxULVnBuR6JAaI8c2y",
      "include_colab_link": true
    },
    "kernelspec": {
      "name": "python3",
      "display_name": "Python 3"
    },
    "language_info": {
      "name": "python"
    }
  },
  "cells": [
    {
      "cell_type": "markdown",
      "metadata": {
        "id": "view-in-github",
        "colab_type": "text"
      },
      "source": [
        "<a href=\"https://colab.research.google.com/github/noayarae/Python-Libraries/blob/master/XGBoost_basic.ipynb\" target=\"_parent\"><img src=\"https://colab.research.google.com/assets/colab-badge.svg\" alt=\"Open In Colab\"/></a>"
      ]
    },
    {
      "cell_type": "markdown",
      "source": [
        "# Modelo de Regresión con XGBoost"
      ],
      "metadata": {
        "id": "UusvhvS_cTM4"
      }
    },
    {
      "cell_type": "markdown",
      "source": [
        "Este ejemplo predice la temperatura del agua de ríos empleando variables de predicción de Temperatura del aire, descarga, et."
      ],
      "metadata": {
        "id": "k0rfHVRJcbJn"
      }
    },
    {
      "cell_type": "markdown",
      "source": [
        "## Lectura de base de datos (BBDD)"
      ],
      "metadata": {
        "id": "tOjO73ZXcWkU"
      }
    },
    {
      "cell_type": "code",
      "source": [
        "from pandas import read_csv"
      ],
      "metadata": {
        "id": "L4rz2zPZl-uK"
      },
      "execution_count": 2,
      "outputs": []
    },
    {
      "cell_type": "code",
      "source": [
        "# Read DATA. \n",
        "# E: header=0, does not consider header. index_col=0 does not consider first col\n",
        "data = read_csv('005_sb31_8v_no_norm_SF0_SFmax.csv', header=0, index_col=0) "
      ],
      "metadata": {
        "id": "9lZ2J6AbcMD6"
      },
      "execution_count": 3,
      "outputs": []
    },
    {
      "cell_type": "code",
      "source": [
        "data.head()"
      ],
      "metadata": {
        "colab": {
          "base_uri": "https://localhost:8080/",
          "height": 215
        },
        "id": "0GNEBinhmL7k",
        "outputId": "b4c35cb3-d776-42a0-fef3-8024948faed2"
      },
      "execution_count": 4,
      "outputs": [
        {
          "output_type": "execute_result",
          "data": {
            "text/plain": [
              "              scenario    Ta   Wind     SR     HR        DY   Flow         pp  \\\n",
              "Date                                                                            \n",
              "2/16/2012  no_riparian  2.25  0.671  2.528  0.963  0.393590  3.002   1.453580   \n",
              "2/17/2012  no_riparian  2.75  0.729  2.625  0.931  0.401488  3.143   4.239576   \n",
              "2/18/2012  no_riparian  4.80  1.471  8.031  0.868  0.409356  4.474  12.574565   \n",
              "2/19/2012  no_riparian  1.80  0.706  6.046  0.880  0.417194  5.097   7.771288   \n",
              "2/20/2012  no_riparian  2.00  1.135  2.974  0.963  0.425000  5.324   3.934996   \n",
              "\n",
              "            SF    Tw  \n",
              "Date                  \n",
              "2/16/2012  0.0  5.96  \n",
              "2/17/2012  0.0  6.95  \n",
              "2/18/2012  0.0  6.96  \n",
              "2/19/2012  0.0  6.58  \n",
              "2/20/2012  0.0  6.68  "
            ],
            "text/html": [
              "\n",
              "  <div id=\"df-1345bf16-91f2-44b9-994c-8a142a6cbdd9\">\n",
              "    <div class=\"colab-df-container\">\n",
              "      <div>\n",
              "<style scoped>\n",
              "    .dataframe tbody tr th:only-of-type {\n",
              "        vertical-align: middle;\n",
              "    }\n",
              "\n",
              "    .dataframe tbody tr th {\n",
              "        vertical-align: top;\n",
              "    }\n",
              "\n",
              "    .dataframe thead th {\n",
              "        text-align: right;\n",
              "    }\n",
              "</style>\n",
              "<table border=\"1\" class=\"dataframe\">\n",
              "  <thead>\n",
              "    <tr style=\"text-align: right;\">\n",
              "      <th></th>\n",
              "      <th>scenario</th>\n",
              "      <th>Ta</th>\n",
              "      <th>Wind</th>\n",
              "      <th>SR</th>\n",
              "      <th>HR</th>\n",
              "      <th>DY</th>\n",
              "      <th>Flow</th>\n",
              "      <th>pp</th>\n",
              "      <th>SF</th>\n",
              "      <th>Tw</th>\n",
              "    </tr>\n",
              "    <tr>\n",
              "      <th>Date</th>\n",
              "      <th></th>\n",
              "      <th></th>\n",
              "      <th></th>\n",
              "      <th></th>\n",
              "      <th></th>\n",
              "      <th></th>\n",
              "      <th></th>\n",
              "      <th></th>\n",
              "      <th></th>\n",
              "      <th></th>\n",
              "    </tr>\n",
              "  </thead>\n",
              "  <tbody>\n",
              "    <tr>\n",
              "      <th>2/16/2012</th>\n",
              "      <td>no_riparian</td>\n",
              "      <td>2.25</td>\n",
              "      <td>0.671</td>\n",
              "      <td>2.528</td>\n",
              "      <td>0.963</td>\n",
              "      <td>0.393590</td>\n",
              "      <td>3.002</td>\n",
              "      <td>1.453580</td>\n",
              "      <td>0.0</td>\n",
              "      <td>5.96</td>\n",
              "    </tr>\n",
              "    <tr>\n",
              "      <th>2/17/2012</th>\n",
              "      <td>no_riparian</td>\n",
              "      <td>2.75</td>\n",
              "      <td>0.729</td>\n",
              "      <td>2.625</td>\n",
              "      <td>0.931</td>\n",
              "      <td>0.401488</td>\n",
              "      <td>3.143</td>\n",
              "      <td>4.239576</td>\n",
              "      <td>0.0</td>\n",
              "      <td>6.95</td>\n",
              "    </tr>\n",
              "    <tr>\n",
              "      <th>2/18/2012</th>\n",
              "      <td>no_riparian</td>\n",
              "      <td>4.80</td>\n",
              "      <td>1.471</td>\n",
              "      <td>8.031</td>\n",
              "      <td>0.868</td>\n",
              "      <td>0.409356</td>\n",
              "      <td>4.474</td>\n",
              "      <td>12.574565</td>\n",
              "      <td>0.0</td>\n",
              "      <td>6.96</td>\n",
              "    </tr>\n",
              "    <tr>\n",
              "      <th>2/19/2012</th>\n",
              "      <td>no_riparian</td>\n",
              "      <td>1.80</td>\n",
              "      <td>0.706</td>\n",
              "      <td>6.046</td>\n",
              "      <td>0.880</td>\n",
              "      <td>0.417194</td>\n",
              "      <td>5.097</td>\n",
              "      <td>7.771288</td>\n",
              "      <td>0.0</td>\n",
              "      <td>6.58</td>\n",
              "    </tr>\n",
              "    <tr>\n",
              "      <th>2/20/2012</th>\n",
              "      <td>no_riparian</td>\n",
              "      <td>2.00</td>\n",
              "      <td>1.135</td>\n",
              "      <td>2.974</td>\n",
              "      <td>0.963</td>\n",
              "      <td>0.425000</td>\n",
              "      <td>5.324</td>\n",
              "      <td>3.934996</td>\n",
              "      <td>0.0</td>\n",
              "      <td>6.68</td>\n",
              "    </tr>\n",
              "  </tbody>\n",
              "</table>\n",
              "</div>\n",
              "      <button class=\"colab-df-convert\" onclick=\"convertToInteractive('df-1345bf16-91f2-44b9-994c-8a142a6cbdd9')\"\n",
              "              title=\"Convert this dataframe to an interactive table.\"\n",
              "              style=\"display:none;\">\n",
              "        \n",
              "  <svg xmlns=\"http://www.w3.org/2000/svg\" height=\"24px\"viewBox=\"0 0 24 24\"\n",
              "       width=\"24px\">\n",
              "    <path d=\"M0 0h24v24H0V0z\" fill=\"none\"/>\n",
              "    <path d=\"M18.56 5.44l.94 2.06.94-2.06 2.06-.94-2.06-.94-.94-2.06-.94 2.06-2.06.94zm-11 1L8.5 8.5l.94-2.06 2.06-.94-2.06-.94L8.5 2.5l-.94 2.06-2.06.94zm10 10l.94 2.06.94-2.06 2.06-.94-2.06-.94-.94-2.06-.94 2.06-2.06.94z\"/><path d=\"M17.41 7.96l-1.37-1.37c-.4-.4-.92-.59-1.43-.59-.52 0-1.04.2-1.43.59L10.3 9.45l-7.72 7.72c-.78.78-.78 2.05 0 2.83L4 21.41c.39.39.9.59 1.41.59.51 0 1.02-.2 1.41-.59l7.78-7.78 2.81-2.81c.8-.78.8-2.07 0-2.86zM5.41 20L4 18.59l7.72-7.72 1.47 1.35L5.41 20z\"/>\n",
              "  </svg>\n",
              "      </button>\n",
              "      \n",
              "  <style>\n",
              "    .colab-df-container {\n",
              "      display:flex;\n",
              "      flex-wrap:wrap;\n",
              "      gap: 12px;\n",
              "    }\n",
              "\n",
              "    .colab-df-convert {\n",
              "      background-color: #E8F0FE;\n",
              "      border: none;\n",
              "      border-radius: 50%;\n",
              "      cursor: pointer;\n",
              "      display: none;\n",
              "      fill: #1967D2;\n",
              "      height: 32px;\n",
              "      padding: 0 0 0 0;\n",
              "      width: 32px;\n",
              "    }\n",
              "\n",
              "    .colab-df-convert:hover {\n",
              "      background-color: #E2EBFA;\n",
              "      box-shadow: 0px 1px 2px rgba(60, 64, 67, 0.3), 0px 1px 3px 1px rgba(60, 64, 67, 0.15);\n",
              "      fill: #174EA6;\n",
              "    }\n",
              "\n",
              "    [theme=dark] .colab-df-convert {\n",
              "      background-color: #3B4455;\n",
              "      fill: #D2E3FC;\n",
              "    }\n",
              "\n",
              "    [theme=dark] .colab-df-convert:hover {\n",
              "      background-color: #434B5C;\n",
              "      box-shadow: 0px 1px 3px 1px rgba(0, 0, 0, 0.15);\n",
              "      filter: drop-shadow(0px 1px 2px rgba(0, 0, 0, 0.3));\n",
              "      fill: #FFFFFF;\n",
              "    }\n",
              "  </style>\n",
              "\n",
              "      <script>\n",
              "        const buttonEl =\n",
              "          document.querySelector('#df-1345bf16-91f2-44b9-994c-8a142a6cbdd9 button.colab-df-convert');\n",
              "        buttonEl.style.display =\n",
              "          google.colab.kernel.accessAllowed ? 'block' : 'none';\n",
              "\n",
              "        async function convertToInteractive(key) {\n",
              "          const element = document.querySelector('#df-1345bf16-91f2-44b9-994c-8a142a6cbdd9');\n",
              "          const dataTable =\n",
              "            await google.colab.kernel.invokeFunction('convertToInteractive',\n",
              "                                                     [key], {});\n",
              "          if (!dataTable) return;\n",
              "\n",
              "          const docLinkHtml = 'Like what you see? Visit the ' +\n",
              "            '<a target=\"_blank\" href=https://colab.research.google.com/notebooks/data_table.ipynb>data table notebook</a>'\n",
              "            + ' to learn more about interactive tables.';\n",
              "          element.innerHTML = '';\n",
              "          dataTable['output_type'] = 'display_data';\n",
              "          await google.colab.output.renderOutput(dataTable, element);\n",
              "          const docLink = document.createElement('div');\n",
              "          docLink.innerHTML = docLinkHtml;\n",
              "          element.appendChild(docLink);\n",
              "        }\n",
              "      </script>\n",
              "    </div>\n",
              "  </div>\n",
              "  "
            ]
          },
          "metadata": {},
          "execution_count": 4
        }
      ]
    },
    {
      "cell_type": "markdown",
      "source": [
        "### Select predictors and response variable"
      ],
      "metadata": {
        "id": "jA8UJ662onVO"
      }
    },
    {
      "cell_type": "code",
      "source": [
        "# Select output and input variables\n",
        "X = data.drop(['scenario', 'Tw'],axis=1)\n",
        "y = data['Tw']\n",
        "print (\"Data dimension (X), (y):\", X.shape, y.shape)"
      ],
      "metadata": {
        "colab": {
          "base_uri": "https://localhost:8080/"
        },
        "id": "S8vmWDTtnKEo",
        "outputId": "1dc32c45-dbe0-48d0-fc87-54096bdd79ca"
      },
      "execution_count": 5,
      "outputs": [
        {
          "output_type": "stream",
          "name": "stdout",
          "text": [
            "Data dimension (X), (y): (6438, 8) (6438,)\n"
          ]
        }
      ]
    },
    {
      "cell_type": "markdown",
      "source": [
        "### Split train and test"
      ],
      "metadata": {
        "id": "F5J_LXn0o0D4"
      }
    },
    {
      "cell_type": "code",
      "source": [
        "# Split into train and test (Method 1) (Random split)\n",
        "from sklearn.model_selection import train_test_split\n",
        "# Test-size: 30%, Train-size: 70%\n",
        "train_x, test_x, train_y, test_y = train_test_split(X, y, test_size=0.3, random_state=1)\n",
        "print(\"Datasets dimension - Method-1 \\n train_x, train_y, test_x, test_y: \\n\", \n",
        "      train_x.shape, test_x.shape, train_y.shape, test_y.shape)\n"
      ],
      "metadata": {
        "colab": {
          "base_uri": "https://localhost:8080/"
        },
        "id": "gWB6YU12ovnF",
        "outputId": "7dda650b-d2d5-4be6-e82a-4d68e5dfc6d2"
      },
      "execution_count": 6,
      "outputs": [
        {
          "output_type": "stream",
          "name": "stdout",
          "text": [
            "Datasets dimension - Method-1 \n",
            " train_x, train_y, test_x, test_y: \n",
            " (4506, 8) (1932, 8) (4506,) (1932,)\n"
          ]
        }
      ]
    },
    {
      "cell_type": "markdown",
      "source": [
        "### Selecting the model"
      ],
      "metadata": {
        "id": "Ia4EymVR0JB9"
      }
    },
    {
      "cell_type": "code",
      "source": [
        "from xgboost import XGBRegressor\n",
        "model = XGBRegressor()"
      ],
      "metadata": {
        "id": "fas-JHXF0IMt"
      },
      "execution_count": 7,
      "outputs": []
    },
    {
      "cell_type": "markdown",
      "source": [
        "### Fitting the model and score\n"
      ],
      "metadata": {
        "id": "DS5YTsWw0Ruf"
      }
    },
    {
      "cell_type": "code",
      "source": [
        "model.fit(train_x, train_y)"
      ],
      "metadata": {
        "colab": {
          "base_uri": "https://localhost:8080/"
        },
        "id": "70aweQ8w0Yja",
        "outputId": "4db79673-cb5a-4dc2-bdb2-c886dc17fc77"
      },
      "execution_count": 8,
      "outputs": [
        {
          "output_type": "stream",
          "name": "stdout",
          "text": [
            "[08:04:02] WARNING: /workspace/src/objective/regression_obj.cu:152: reg:linear is now deprecated in favor of reg:squarederror.\n"
          ]
        },
        {
          "output_type": "execute_result",
          "data": {
            "text/plain": [
              "XGBRegressor()"
            ]
          },
          "metadata": {},
          "execution_count": 8
        }
      ]
    },
    {
      "cell_type": "markdown",
      "source": [
        "### Score (Accuracy)"
      ],
      "metadata": {
        "id": "LgURCge74N6j"
      }
    },
    {
      "cell_type": "code",
      "source": [
        "# Default score for regression: rmse. Default score for classification: error\n",
        "model_score = model.score(train_x, train_y)\n",
        "print (model_score)"
      ],
      "metadata": {
        "colab": {
          "base_uri": "https://localhost:8080/"
        },
        "id": "LuuTmvaJ4M2k",
        "outputId": "9dc82028-46c0-41ac-9c86-a0b5eac32c97"
      },
      "execution_count": 9,
      "outputs": [
        {
          "output_type": "stream",
          "name": "stdout",
          "text": [
            "0.9764515832882044\n"
          ]
        }
      ]
    },
    {
      "cell_type": "markdown",
      "source": [
        "### Importance of variables\n",
        "Importance of variables in proportion\n",
        "\n",
        "Next, Importance of variables in Weights. These are not same as importance. [Read more](https://stackoverflow.com/questions/37627923/how-to-get-feature-importance-in-xgboost). \n",
        "\n",
        "Next, Importance of variables in Gains\n",
        "\n",
        "Next, Importance of variables in scores same as weights"
      ],
      "metadata": {
        "id": "qsOvSGP-4wkJ"
      }
    },
    {
      "cell_type": "code",
      "source": [
        "# Importance of variables in proportion\n",
        "print (\"Importance of variables in proportion\")\n",
        "print (X.columns)\n",
        "print (100*model.feature_importances_,\"\\n\")\n",
        "\n",
        "# Importance of variables in Weights\n",
        "print (\"Importance of variables in Weights\")\n",
        "f_import_weights = model.get_booster().get_score(importance_type='weight')\n",
        "keys = list(f_import_weights.keys())\n",
        "values = list(f_import_weights.values())\n",
        "print (keys,'\\n',values,'\\n')\n",
        "\n",
        "# Importance of variables in Gains\n",
        "print (\"Importance of variables in Gains\")\n",
        "f_import_gain = model.get_booster().get_score(importance_type='gain')\n",
        "keys = list(f_import_gain.keys())\n",
        "values = list(f_import_gain.values())\n",
        "print (keys)\n",
        "print (values,\"\\n\")\n",
        "\n",
        "# Importance of variables in scores same as weights\n",
        "print (\"Importance of variables in Scores\")\n",
        "print (model.get_booster().get_score())\n"
      ],
      "metadata": {
        "colab": {
          "base_uri": "https://localhost:8080/"
        },
        "id": "XEuXdSaH4zhX",
        "outputId": "c7afe6fc-c746-4e9e-9697-3e03b384f452"
      },
      "execution_count": 10,
      "outputs": [
        {
          "output_type": "stream",
          "name": "stdout",
          "text": [
            "Importance of variables in proportion\n",
            "Index(['Ta', 'Wind', 'SR', 'HR', 'DY', 'Flow', 'pp', 'SF'], dtype='object')\n",
            "[68.99149     1.12878     1.9678047   0.23551187 13.584593    5.875238\n",
            "  2.1005669   6.116013  ] \n",
            "\n",
            "Importance of variables in Weights\n",
            "['Ta', 'SF', 'Flow', 'pp', 'DY', 'Wind', 'SR', 'HR'] \n",
            " [163, 91, 131, 76, 79, 36, 71, 36] \n",
            "\n",
            "Importance of variables in Gains\n",
            "['Ta', 'SF', 'Flow', 'pp', 'DY', 'Wind', 'SR', 'HR']\n",
            "[1940.902047508178, 172.05861805663744, 165.2850296478397, 59.094162368800006, 382.1683430677278, 31.755383769055566, 55.35923033663238, 6.625534067222223] \n",
            "\n",
            "Importance of variables in Scores\n",
            "{'Ta': 163, 'SF': 91, 'Flow': 131, 'pp': 76, 'DY': 79, 'Wind': 36, 'SR': 71, 'HR': 36}\n"
          ]
        }
      ]
    },
    {
      "cell_type": "markdown",
      "source": [
        "### Plot importance of variables"
      ],
      "metadata": {
        "id": "V82YK1JiNK1T"
      }
    },
    {
      "cell_type": "code",
      "source": [
        "import numpy as np\n",
        "import matplotlib.pyplot as plt\n",
        "f_importance = 100*model.feature_importances_\n",
        "sorted_idx = np.argsort(f_importance)\n",
        "fig = plt.figure(figsize=(8, 4))\n",
        "plt.barh(range(len(sorted_idx)), f_importance[sorted_idx], align='center',color ='maroon')\n",
        "plt.yticks(range(len(sorted_idx)), np.array(X.columns)[sorted_idx])\n",
        "plt.title('Feature Importance')\n",
        "plt.grid(axis=\"x\")\n",
        "\n",
        "print (f_importance[sorted_idx][::-1]) # Reversing the array to show values\n",
        "plt.show()"
      ],
      "metadata": {
        "colab": {
          "base_uri": "https://localhost:8080/",
          "height": 316
        },
        "id": "VFt237THZKbv",
        "outputId": "893d9dd3-6ca9-4c2a-bc23-0ffbbd8aaa91"
      },
      "execution_count": 12,
      "outputs": [
        {
          "output_type": "stream",
          "name": "stdout",
          "text": [
            "[68.99149    13.584593    6.116013    5.875238    2.1005669   1.9678047\n",
            "  1.12878     0.23551187]\n"
          ]
        },
        {
          "output_type": "display_data",
          "data": {
            "text/plain": [
              "<Figure size 576x288 with 1 Axes>"
            ],
            "image/png": "[encoded data removed]"
          },
          "metadata": {
            "needs_background": "light"
          }
        }
      ]
    },
    {
      "cell_type": "markdown",
      "source": [
        "## Predicting new values for 'x-test'"
      ],
      "metadata": {
        "id": "RQZ0uhtMcmin"
      }
    },
    {
      "cell_type": "code",
      "source": [
        "predict_test = model.predict(test_x)\n",
        "print (predict_test[0:10])"
      ],
      "metadata": {
        "colab": {
          "base_uri": "https://localhost:8080/"
        },
        "id": "UlsJBDGqcVcg",
        "outputId": "ff8d35cf-a4fc-4f46-ec8e-dc2169d59821"
      },
      "execution_count": 13,
      "outputs": [
        {
          "output_type": "stream",
          "name": "stdout",
          "text": [
            "[14.201131   5.345115  16.436981   8.451546   4.9998026 10.468667\n",
            " 10.167007  16.189571  13.984148   1.6325759]\n"
          ]
        }
      ]
    },
    {
      "cell_type": "markdown",
      "source": [
        "## Model Error\n",
        "### Train error"
      ],
      "metadata": {
        "id": "hrC3Gk4Ofe3I"
      }
    },
    {
      "cell_type": "code",
      "source": [
        "# Prediction for 'train_x' values to compare with 'train_y'\n",
        "pred_train = model.predict(train_x) # prediction for 'Train' values\n",
        "from sklearn.metrics import mean_squared_error, r2_score  ## use function score   RMSE\n",
        "print(\"R2: \",r2_score(train_y, pred_train) ) # how much variance the model explains?\n",
        "print(\"MSE:\",mean_squared_error(train_y, pred_train) )  ##  lower -> better ?? "
      ],
      "metadata": {
        "colab": {
          "base_uri": "https://localhost:8080/"
        },
        "id": "AGawTSfzfsqk",
        "outputId": "f6e39989-0d4c-488e-87f1-a6aa8679baf2"
      },
      "execution_count": 14,
      "outputs": [
        {
          "output_type": "stream",
          "name": "stdout",
          "text": [
            "R2:  0.9764515832882044\n",
            "MSE: 0.40442561328184484\n"
          ]
        }
      ]
    },
    {
      "cell_type": "markdown",
      "source": [
        "### Test error"
      ],
      "metadata": {
        "id": "H47PumPvgQJn"
      }
    },
    {
      "cell_type": "code",
      "source": [
        "model.score(test_x, test_y)  ## R^2\n",
        "print(\"R2: \",r2_score(test_y, predict_test)) # 'predict_test' was obtained above\n",
        "print(\"MSE:\",mean_squared_error(test_y, predict_test))"
      ],
      "metadata": {
        "colab": {
          "base_uri": "https://localhost:8080/"
        },
        "id": "5PaPbdzsgPt1",
        "outputId": "8281e9c4-2052-4856-c422-08a61aa8bc77"
      },
      "execution_count": 15,
      "outputs": [
        {
          "output_type": "stream",
          "name": "stdout",
          "text": [
            "R2:  0.9696904096143123\n",
            "MSE: 0.5149188658920845\n"
          ]
        }
      ]
    },
    {
      "cell_type": "code",
      "source": [
        ""
      ],
      "metadata": {
        "id": "b3C5Lu5UhZF_"
      },
      "execution_count": null,
      "outputs": []
    }
  ]
}